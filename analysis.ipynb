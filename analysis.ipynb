{
 "metadata": {
  "language_info": {
   "codemirror_mode": {
    "name": "ipython",
    "version": 3
   },
   "file_extension": ".py",
   "mimetype": "text/x-python",
   "name": "python",
   "nbconvert_exporter": "python",
   "pygments_lexer": "ipython3",
   "version": 3
  },
  "orig_nbformat": 2
 },
 "nbformat": 4,
 "nbformat_minor": 2,
 "cells": [
  {
   "cell_type": "code",
   "execution_count": null,
   "metadata": {},
   "outputs": [],
   "source": [
    "#import the lib\n",
    "\n",
    "import asyncio\n",
    "from tweepy import Stream\n",
    "from tweepy.streaming import StreamListener\n",
    "from tweepy import OAuthHandler\n",
    "from azure.eventhub.aio import EventHubProducerClient\n",
    "from azure.eventhub import EventData\n",
    "import json\n",
    "import nltk\n",
    "from textblob import TextBlob,Word,Blobber\n",
    "nltk.download('punkt')\n",
    "nltk.download('averaged_perceptron_tagger') \n",
    "nltk.download('brown')"
   ]
  },
  {
   "cell_type": "code",
   "execution_count": null,
   "metadata": {},
   "outputs": [],
   "source": [
    "#this function used to analysis the data\n",
    "\n",
    "def getblobsentiment(tweet):\n",
    "\n",
    "  '''\n",
    "  Utility function to classify sentiment of passed tweet\n",
    "  '''\n",
    "  # create TextBlob object of passed tweet text\n",
    "  blob = TextBlob(tweet)\n",
    "  i=0.00\n",
    "  for sentence in blob.sentences:\n",
    "      i=i+sentence.sentiment.polarity\n",
    "\n",
    "  if i >0: \n",
    "    return 1\n",
    "  elif i<0:\n",
    "    return -1\n",
    "  else:\n",
    "    return 0"
   ]
  },
  {
   "cell_type": "code",
   "execution_count": null,
   "metadata": {},
   "outputs": [],
   "source": [
    "#this function is used the make the connection with azure eventhub and twitter\n",
    "async def run(text):\n",
    "  producer = EventHubProducerClient.from_connection_string(conn_str=\"Endpoint=sb://analyticsexample.servicebus.windows.net/;SharedAccessKeyName=sh1;SharedAccessKey=Uv6v3T//ldATTMklhpfmG/tpO/FVy6E8pQR2oX4Kfhw=\", eventhub_name=\"tweetacc\")\n",
    "  async with producer:\n",
    "    # Create a batch.\n",
    "    event_data_batch = await producer.create_batch()\n",
    "    event_data_batch.add(EventData(text))\n",
    "    await producer.send_batch(event_data_batch)  "
   ]
  },
  {
   "cell_type": "code",
   "execution_count": null,
   "metadata": {},
   "outputs": [],
   "source": [
    "class listener(StreamListener): \n",
    "  '''\n",
    "\tGeneric Twitter Class for sentiment analysis.\n",
    "\t'''\n",
    "  def on_data(self, data): \n",
    "    loop = asyncio.get_event_loop()\n",
    "    t=json.loads(data)\n",
    "    d1 = {\"text\":t[\"text\"] ,\"sentiment\": getblobsentiment(t[\"text\"]) ,\"created_at\" :t[\"created_at\"]  }\n",
    "    print (type(data))     \n",
    "    loop.run_until_complete(run(json.dumps(d1)))\n",
    "    print(d1)\n",
    "    return(True)\n",
    "   \n",
    "    \n",
    "  def on_error(self, status):\n",
    "    print(status)\n",
    "    \n",
    "ckey=\"\" \n",
    "csecret=\"\" \n",
    "atoken=\"\" \n",
    "asecret=\"\"\n",
    "\n",
    "auth = OAuthHandler(ckey, csecret) \n",
    "auth.set_access_token(atoken, asecret)\n",
    "\n",
    "twitterStream = Stream(auth, listener()) \n",
    "twitterStream.filter(track=[\"corona\"])"
   ]
  }
 ]
}